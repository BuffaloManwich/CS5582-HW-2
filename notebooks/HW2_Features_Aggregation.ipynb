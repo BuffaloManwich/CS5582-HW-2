{
 "cells": [
  {
   "cell_type": "code",
   "execution_count": 5,
   "id": "5b1271cc-acb6-4b33-882f-a5758c038a47",
   "metadata": {},
   "outputs": [
    {
     "name": "stdout",
     "output_type": "stream",
     "text": [
      "Ready. OpenCV: 4.9.0\n",
      "DATA_DIR: /home/manny-buff/projects/cv-hw1/data/NWPU-RESISC45 | exists: True\n"
     ]
    }
   ],
   "source": [
    "# Cell 1 — imports and paths (keep outputs limited per your rule)\n",
    "from pathlib import Path\n",
    "import numpy as np, cv2, h5py, json, math\n",
    "from sklearn.decomposition import PCA\n",
    "from sklearn.mixture import GaussianMixture\n",
    "from sklearn.neighbors import KNeighborsClassifier\n",
    "from sklearn.metrics import confusion_matrix\n",
    "import matplotlib.pyplot as plt\n",
    "\n",
    "ROOT = Path.cwd()\n",
    "DATA_DIR = Path(\"/home/manny-buff/projects/cv-hw1/data/NWPU-RESISC45\")\n",
    "FEAT_DIR   = ROOT / \"features\"\n",
    "MODEL_DIR  = ROOT / \"models\"\n",
    "REPORT_DIR = ROOT / \"reports\"\n",
    "\n",
    "for p in (DATA_DIR, FEAT_DIR, MODEL_DIR, REPORT_DIR):\n",
    "    p.mkdir(parents=True, exist_ok=True)\n",
    "\n",
    "print(\"Ready. OpenCV:\", cv2.__version__)\n",
    "\n",
    "print(\"DATA_DIR:\", DATA_DIR, \"| exists:\", DATA_DIR.exists())"
   ]
  },
  {
   "cell_type": "code",
   "execution_count": 28,
   "id": "ae5066a6-6b58-41ea-ae3b-6cb4f8690f20",
   "metadata": {},
   "outputs": [
    {
     "name": "stdout",
     "output_type": "stream",
     "text": [
      "ROOT     : /home/manny-buff/projects/cv-hw2\n",
      "MODEL_DIR: /home/manny-buff/projects/cv-hw2/models\n",
      "REPORT_DIR: /home/manny-buff/projects/cv-hw2/reports\n",
      "Exists    models/gmm? True\n"
     ]
    }
   ],
   "source": [
    "# Patch paths so they always point to the project root (~/projects/cv-hw2)\n",
    "\n",
    "# Try to auto-detect the repo root by looking for a \"models\" dir one level up\n",
    "_here = Path.cwd()\n",
    "if (_here / \"models\").exists():\n",
    "    ROOT = _here\n",
    "elif (_here.parent / \"models\").exists():\n",
    "    ROOT = _here.parent\n",
    "else:\n",
    "    # fallback: hardcode your project root\n",
    "    ROOT = Path(\"/home/manny-buff/projects/cv-hw2\")\n",
    "\n",
    "DATA_DIR   = Path(\"/home/manny-buff/projects/cv-hw1/data/NWPU-RESISC45\")  # your dataset location\n",
    "FEAT_DIR   = ROOT / \"features\"\n",
    "MODEL_DIR  = ROOT / \"models\"\n",
    "REPORT_DIR = ROOT / \"reports\"\n",
    "\n",
    "for p in (FEAT_DIR, MODEL_DIR / \"gmm\", REPORT_DIR):\n",
    "    p.mkdir(parents=True, exist_ok=True)\n",
    "\n",
    "print(\"ROOT     :\", ROOT)\n",
    "print(\"MODEL_DIR:\", MODEL_DIR)\n",
    "print(\"REPORT_DIR:\", REPORT_DIR)\n",
    "print(\"Exists    models/gmm?\", (MODEL_DIR / \"gmm\").exists())\n"
   ]
  },
  {
   "cell_type": "code",
   "execution_count": 25,
   "id": "d79da5a5-f847-4a8f-813f-b7f4bc96d8d6",
   "metadata": {},
   "outputs": [
    {
     "name": "stdout",
     "output_type": "stream",
     "text": [
      "Classes found: 45\n",
      "airplane              700 images\n",
      "airport               700 images\n",
      "baseball_diamond      700 images\n",
      "basketball_court      700 images\n",
      "beach                 700 images\n",
      "bridge                700 images\n",
      "chaparral             700 images\n",
      "church                700 images\n",
      "circular_farmland     700 images\n",
      "cloud                 700 images\n",
      "commercial_area       700 images\n",
      "dense_residential     700 images\n",
      "desert                700 images\n",
      "forest                700 images\n",
      "freeway               700 images\n",
      "golf_course           700 images\n",
      "ground_track_field    700 images\n",
      "harbor                700 images\n",
      "industrial_area       700 images\n",
      "intersection          700 images\n",
      "island                700 images\n",
      "lake                  700 images\n",
      "meadow                700 images\n",
      "medium_residential    700 images\n",
      "mobile_home_park      700 images\n",
      "mountain              700 images\n",
      "overpass              700 images\n",
      "palace                700 images\n",
      "parking_lot           700 images\n",
      "railway               700 images\n",
      "railway_station       700 images\n",
      "rectangular_farmland  700 images\n",
      "river                 700 images\n",
      "roundabout            700 images\n",
      "runway                700 images\n",
      "sea_ice               700 images\n",
      "ship                  700 images\n",
      "snowberg              700 images\n",
      "sparse_residential    700 images\n",
      "stadium               700 images\n",
      "storage_tank          700 images\n",
      "tennis_court          700 images\n",
      "terrace               700 images\n",
      "thermal_power_station  700 images\n",
      "wetland               700 images\n",
      "\n",
      "TOTAL images: 31500\n",
      "⚠️ Please ensure first 15 classes with 60 images each.\n"
     ]
    }
   ],
   "source": [
    "# Cell 2 - validation of folder/file location and existence\n",
    "from pathlib import Path\n",
    "from collections import Counter\n",
    "import re\n",
    "\n",
    "root = DATA_DIR  # set in Cell 1\n",
    "classes = sorted([p.name for p in root.glob(\"*\") if p.is_dir()])\n",
    "counts  = {c: len(list((root/c).glob(\"*.jpg\"))) + len(list((root/c).glob(\"*.png\"))) for c in classes}\n",
    "\n",
    "print(\"Classes found:\", len(classes))\n",
    "for c in classes:\n",
    "    print(f\"{c:20s}  {counts[c]:3d} images\")\n",
    "\n",
    "total = sum(counts.values())\n",
    "print(\"\\nTOTAL images:\", total)\n",
    "if len(classes) == 15 and all(v >= 60 for v in counts.values()):\n",
    "    print(\"✅ Looks good: 15 classes, at least 60 each (target 900 total).\")\n",
    "else:\n",
    "    print(\"⚠️ Please ensure first 15 classes with 60 images each.\")"
   ]
  },
  {
   "cell_type": "code",
   "execution_count": 7,
   "id": "40b66934-0771-4363-803d-130b6307aced",
   "metadata": {},
   "outputs": [],
   "source": [
    "# Cell 3 — getImageFeatures (SIFT only; DSIFT/HoGf to be added)\n",
    "import numpy as np, cv2\n",
    "\n",
    "def getImageFeatures(im_gray: np.ndarray, opt: dict) -> np.ndarray:\n",
    "    \"\"\"\n",
    "    im_gray: HxW uint8 grayscale image\n",
    "    opt: {\"type\": \"sift\" | \"dsift\" | \"hogf\", ...}\n",
    "    returns: n x d features (float32)\n",
    "    \"\"\"\n",
    "    t = opt.get(\"type\", \"sift\").lower()\n",
    "    if t == \"sift\":\n",
    "        sift = cv2.SIFT_create()\n",
    "        _kps, desc = sift.detectAndCompute(im_gray, None)\n",
    "        if desc is None:\n",
    "            return np.zeros((0,128), np.float32)\n",
    "        return desc.astype(np.float32)\n",
    "    else:\n",
    "        raise NotImplementedError(\"Only 'sift' implemented in this cell. We'll add 'dsift' and 'hogf' next.\")\n"
   ]
  },
  {
   "cell_type": "code",
   "execution_count": 8,
   "id": "3b1ab548-ebcc-4d33-a984-7effff1bacde",
   "metadata": {},
   "outputs": [
    {
     "name": "stdout",
     "output_type": "stream",
     "text": [
      "Image: sparse_residential_573.jpg | SIFT features shape: (477, 128) (n x 128)\n"
     ]
    }
   ],
   "source": [
    "# Cell 4 — validate SIFT feature extraction on one image\n",
    "import cv2, random\n",
    "cls_dirs = [p for p in DATA_DIR.glob(\"*\") if p.is_dir()]\n",
    "assert cls_dirs, \"No class folders found. Run Cell 2 and fix dataset paths.\"\n",
    "one_img = random.choice(list(cls_dirs[0].glob(\"*.jpg\")))\n",
    "im = cv2.imread(str(one_img), cv2.IMREAD_GRAYSCALE)\n",
    "f = getImageFeatures(im, {\"type\":\"sift\"})\n",
    "print(\"Image:\", one_img.name, \"| SIFT features shape:\", f.shape, \"(n x 128)\")\n"
   ]
  },
  {
   "cell_type": "code",
   "execution_count": 9,
   "id": "943536a3-8ba2-4b33-904a-49ee416631b4",
   "metadata": {},
   "outputs": [
    {
     "name": "stdout",
     "output_type": "stream",
     "text": [
      "Classes chosen: ['airplane', 'airport', 'baseball_diamond', 'basketball_court', 'beach', 'bridge', 'chaparral', 'church', 'circular_farmland', 'cloud', 'commercial_area', 'dense_residential', 'desert', 'forest', 'freeway']\n",
      "Per-class: 60  | Total images: 900\n"
     ]
    }
   ],
   "source": [
    "# Cell 5 — build fixed 15×60 list in alphabetical order of classes\n",
    "from pathlib import Path\n",
    "\n",
    "ALL_CLASSES = sorted([p for p in DATA_DIR.glob(\"*\") if p.is_dir()], key=lambda p:p.name)\n",
    "CLASS_LIST = ALL_CLASSES[:15]  # HW asks for the *first* 15 classes\n",
    "IMG_PATHS, LABELS = [], []\n",
    "\n",
    "for ci, cdir in enumerate(CLASS_LIST):\n",
    "    imgs = sorted(list(cdir.glob(\"*.jpg\")) + list(cdir.glob(\"*.png\")) + list(cdir.glob(\"*.jpeg\")))\n",
    "    if len(imgs) < 60:\n",
    "        print(f\"⚠️ {cdir.name}: only {len(imgs)} images\")\n",
    "    imgs = imgs[:60]\n",
    "    IMG_PATHS.extend(imgs)\n",
    "    LABELS.extend([ci]*len(imgs))\n",
    "\n",
    "print(\"Classes chosen:\", [c.name for c in CLASS_LIST])\n",
    "print(\"Per-class:\", 60, \" | Total images:\", len(IMG_PATHS))\n"
   ]
  },
  {
   "cell_type": "code",
   "execution_count": 10,
   "id": "7734c97c-8b44-44b7-9a44-0701eab3ea53",
   "metadata": {},
   "outputs": [],
   "source": [
    "# Cell 6 — add DSIFT branch to getImageFeatures\n",
    "import numpy as np, cv2\n",
    "\n",
    "def _dense_keypoints(h, w, step=8, patch=16):\n",
    "    # grid of centers; ensure we stay inside image bounds for the chosen patch size\n",
    "    keypoints = []\n",
    "    offset = patch // 2\n",
    "    for y in range(offset, h - offset, step):\n",
    "        for x in range(offset, w - offset, step):\n",
    "            keypoints.append(cv2.KeyPoint(float(x), float(y), float(patch)))\n",
    "    return keypoints\n",
    "\n",
    "def getImageFeatures(im_gray: np.ndarray, opt: dict) -> np.ndarray:\n",
    "    t = opt.get(\"type\", \"sift\").lower()\n",
    "    if t == \"sift\":\n",
    "        sift = cv2.SIFT_create()\n",
    "        _kps, desc = sift.detectAndCompute(im_gray, None)\n",
    "        if desc is None: return np.zeros((0,128), np.float32)\n",
    "        return desc.astype(np.float32)\n",
    "\n",
    "    if t == \"dsift\":\n",
    "        step  = int(opt.get(\"step\", 8))\n",
    "        patch = int(opt.get(\"patch\", 16))\n",
    "        sift = cv2.SIFT_create()\n",
    "        kps = _dense_keypoints(*im_gray.shape, step=step, patch=patch)\n",
    "        _kps, desc = sift.compute(im_gray, kps)\n",
    "        if desc is None: return np.zeros((0,128), np.float32)\n",
    "        return desc.astype(np.float32)\n",
    "\n",
    "    raise NotImplementedError(\"Only 'sift' and 'dsift' implemented so far.\")\n"
   ]
  },
  {
   "cell_type": "code",
   "execution_count": 11,
   "id": "af37ebd1-21e0-463c-9079-b56711c1ac0b",
   "metadata": {},
   "outputs": [
    {
     "name": "stdout",
     "output_type": "stream",
     "text": [
      "DSIFT features shape: (900, 128) (n x 128)\n"
     ]
    }
   ],
   "source": [
    "# Cell 7 — validate DSIFT on one image (minimal print)\n",
    "import cv2, random\n",
    "assert IMG_PATHS, \"Run Cell 5 first to build the 15×60 list.\"\n",
    "im = cv2.imread(str(IMG_PATHS[0]), cv2.IMREAD_GRAYSCALE)\n",
    "f_ds = getImageFeatures(im, {\"type\":\"dsift\", \"step\":8, \"patch\":16})\n",
    "print(\"DSIFT features shape:\", f_ds.shape, \"(n x 128)\")\n"
   ]
  },
  {
   "cell_type": "code",
   "execution_count": 12,
   "id": "feba34dc-5d2c-44cc-953f-8a3f72c9ab39",
   "metadata": {},
   "outputs": [],
   "source": [
    "# Cell 8 — extend getImageFeatures with HoGf (HOG with 128-D via PCA later)\n",
    "import numpy as np, cv2\n",
    "from skimage.feature import hog\n",
    "\n",
    "def getImageFeatures(im_gray: np.ndarray, opt: dict) -> np.ndarray:\n",
    "    \"\"\"\n",
    "    Returns n x d feature matrix.\n",
    "    Implemented: 'sift', 'dsift', 'hogf'\n",
    "    \"\"\"\n",
    "    t = opt.get(\"type\", \"sift\").lower()\n",
    "\n",
    "    if t == \"sift\":\n",
    "        sift = cv2.SIFT_create()\n",
    "        _kps, desc = sift.detectAndCompute(im_gray, None)\n",
    "        if desc is None: return np.zeros((0,128), np.float32)\n",
    "        return desc.astype(np.float32)\n",
    "\n",
    "    if t == \"dsift\":\n",
    "        step  = int(opt.get(\"step\", 8))\n",
    "        patch = int(opt.get(\"patch\", 16))\n",
    "        sift = cv2.SIFT_create()\n",
    "        kps = []\n",
    "        offset = patch // 2\n",
    "        H, W = im_gray.shape\n",
    "        for y in range(offset, H - offset, step):\n",
    "            for x in range(offset, W - offset, step):\n",
    "                kps.append(cv2.KeyPoint(float(x), float(y), float(patch)))\n",
    "        _kps, desc = sift.compute(im_gray, kps)\n",
    "        if desc is None: return np.zeros((0,128), np.float32)\n",
    "        return desc.astype(np.float32)\n",
    "\n",
    "    if t == \"hogf\":\n",
    "        # HOG returns a single descriptor per image by default.\n",
    "        # We’ll use a dense, per-block representation then flatten.\n",
    "        # d will not be 128 here; we’ll project to kd with PCA in FV stage.\n",
    "        fd = hog(\n",
    "            im_gray,\n",
    "            orientations=9,\n",
    "            pixels_per_cell=(8, 8),\n",
    "            cells_per_block=(2, 2),\n",
    "            block_norm=\"L2-Hys\",\n",
    "            transform_sqrt=True,\n",
    "            feature_vector=True,\n",
    "        )\n",
    "        return fd.reshape(1, -1).astype(np.float32)\n",
    "\n",
    "    raise NotImplementedError(f\"Unknown feature type: {t}\")\n"
   ]
  },
  {
   "cell_type": "code",
   "execution_count": 13,
   "id": "8778c956-e0a1-444d-aa55-f41813c9fa72",
   "metadata": {},
   "outputs": [
    {
     "name": "stdout",
     "output_type": "stream",
     "text": [
      "HoGf features shape: (1, 34596) (n x d)\n"
     ]
    }
   ],
   "source": [
    "# Cell 9 — validate HoGf on one image\n",
    "import cv2\n",
    "im = cv2.imread(str(IMG_PATHS[0]), cv2.IMREAD_GRAYSCALE)\n",
    "f_hog = getImageFeatures(im, {\"type\":\"hogf\"})\n",
    "print(\"HoGf features shape:\", f_hog.shape, \"(n x d)\")\n"
   ]
  },
  {
   "cell_type": "code",
   "execution_count": 14,
   "id": "bf76e855-a454-403a-a334-fa0b22dbbf1c",
   "metadata": {},
   "outputs": [
    {
     "name": "stderr",
     "output_type": "stream",
     "text": [
      "Extracting features: 100%|██████████████████████████████████████████████████████| 900/900 [00:11<00:00, 80.20it/s]\n"
     ]
    },
    {
     "name": "stdout",
     "output_type": "stream",
     "text": [
      "Saved: /home/manny-buff/projects/cv-hw2/notebooks/reports/gradient_features.mat\n",
      "Examples — SIFT[0]: (358, 128)  DSIFT[0]: (900, 128)\n"
     ]
    }
   ],
   "source": [
    "# Cell 10 — extract & save SIFT/DSIFT for all N=900 images to gradient_features.mat\n",
    "import cv2, h5py, numpy as np\n",
    "from tqdm import tqdm\n",
    "\n",
    "SIFT_LIST  = []\n",
    "DSIFT_LIST = []\n",
    "\n",
    "for p in tqdm(IMG_PATHS, desc=\"Extracting features\", total=len(IMG_PATHS)):\n",
    "    im = cv2.imread(str(p), cv2.IMREAD_GRAYSCALE)\n",
    "    f_s = getImageFeatures(im, {\"type\":\"sift\"})\n",
    "    f_d = getImageFeatures(im, {\"type\":\"dsift\", \"step\":8, \"patch\":16})\n",
    "    SIFT_LIST.append(f_s)     # each is (n_i, 128)\n",
    "    DSIFT_LIST.append(f_d)    # each is (m_i, 128)\n",
    "\n",
    "# Save as MATLAB-like cells (v7.3/HDF5). Each cell -> a dataset /SIFT/i\n",
    "out_path = REPORT_DIR / \"gradient_features.mat\"\n",
    "with h5py.File(out_path, \"w\") as f:\n",
    "    g_sift  = f.create_group(\"f_sift\")\n",
    "    g_dsift = f.create_group(\"f_dsift\")\n",
    "    for i, arr in enumerate(SIFT_LIST):\n",
    "        g_sift.create_dataset(str(i), data=arr, compression=\"gzip\")\n",
    "    for i, arr in enumerate(DSIFT_LIST):\n",
    "        g_dsift.create_dataset(str(i), data=arr, compression=\"gzip\")\n",
    "    # Save bookkeeping\n",
    "    f.create_dataset(\"labels\", data=np.array(LABELS, dtype=np.int32))\n",
    "    f.create_dataset(\"class_names\", data=np.array([c.name.encode() for c in CLASS_LIST], dtype=\"S\"))\n",
    "\n",
    "print(\"Saved:\", out_path)\n",
    "print(\"Examples — SIFT[0]:\", SIFT_LIST[0].shape, \" DSIFT[0]:\", DSIFT_LIST[0].shape)\n"
   ]
  },
  {
   "cell_type": "code",
   "execution_count": 24,
   "id": "84631950-7150-44ba-9ed8-5003e200a83f",
   "metadata": {},
   "outputs": [],
   "source": [
    "## Summary of Progress (Cells 1–10)\n",
    "\n",
    "# So far, we’ve set up the environment and prepared the dataset:\n",
    "\n",
    "# 1. **Environment setup (Cells 1–2):**  \n",
    "#   - Verified OpenCV, scikit-learn, scipy, etc. were installed in a clean virtual environment.  \n",
    "#   - Confirmed that SIFT is available (OpenCV contrib build).  \n",
    "#   - Created a clear project directory structure for data, features, models, notebooks, and reports.  \n",
    "#   - Verified that the NWPU-RESISC45 dataset is accessible and the first 15 categories are present.\n",
    "\n",
    "# 2. **Dataset subset (Cell 5):**  \n",
    "#   - Selected the *first 15 classes* (alphabetical order) and restricted to **60 images per class**, for a total of **900 images**, as required by the homework.  \n",
    "#   - Confirmed the correct counts (15 × 60 = 900).\n",
    "\n",
    "# 3. **Feature extraction functions (Cells 3, 6, 8):**  \n",
    "#   - Implemented `getImageFeatures(im, opt)` with three options:\n",
    "#     - **SIFT:** standard keypoint-based SIFT descriptors (128-D).  \n",
    "#     - **Dense SIFT (DSIFT):** descriptors extracted at regular grid points, also 128-D.  \n",
    "#     - **HoGf:** Histogram of Oriented Gradients (HOG) features, producing longer descriptors (~34k dimensions per image in our current settings).\n",
    "\n",
    "# 4. **Validation (Cells 4, 7, 9):**  \n",
    "#   - Confirmed that SIFT descriptors return the expected shape (e.g. 477 × 128 for one test image).  \n",
    "#   - Confirmed DSIFT produces ~900 × 128 descriptors depending on image size and sampling step/patch.  \n",
    "#   - Confirmed HoGf produces a single high-dimensional vector (here, 34,596 dimensions).\n",
    "\n",
    "# 5. **Feature saving (Cell 10):**  \n",
    "#   - Extracted SIFT and DSIFT features for all 900 images.  \n",
    "#   - Saved them into a MATLAB-style `.mat` file (`gradient_features.mat`) under groups `f_sift{}` and `f_dsift{}`, with labels and class names included.  \n",
    "#   - Verified example feature shapes: e.g. SIFT[0] = (358 × 128), DSIFT[0] = (900 × 128).\n",
    "\n",
    "# **Next Steps:**  \n",
    "# We will now move on to the *feature aggregation* stage, beginning with PCA + GMM model fitting (`getFisherVectorModel`), then Fisher Vector construction (`getFisherVector`), and finally classification/accuracy benchmarks with k-NN and confusion maps.\n"
   ]
  },
  {
   "cell_type": "code",
   "execution_count": 29,
   "id": "c888afc0-2a8a-4458-b719-7b44dba6b53d",
   "metadata": {},
   "outputs": [
    {
     "name": "stdout",
     "output_type": "stream",
     "text": [
      "PCA(SIFT, kd=16): saved -> sift_pca_kd16.pkl | top-5 eigvals: [16812.2598639  10511.31862978  7715.50133252  6480.61048916\n",
      "  6224.11384171]\n"
     ]
    }
   ],
   "source": [
    "# Cell 11 — fit PCA (SIFT or DSIFT), save model, quick validation print\n",
    "import numpy as np\n",
    "from sklearn.decomposition import PCA\n",
    "from pathlib import Path\n",
    "import random, math, pickle\n",
    "\n",
    "RNG = np.random.default_rng(123)\n",
    "\n",
    "def sample_descriptors(desc_lists, max_total=200_000):\n",
    "    \"\"\"desc_lists: list of (n_i x 128) arrays; return a big (M x 128) sample.\"\"\"\n",
    "    lengths = [len(d) for d in desc_lists]\n",
    "    total = sum(lengths)\n",
    "    if total <= max_total:\n",
    "        return np.vstack(desc_lists) if total > 0 else np.zeros((0,128), np.float32)\n",
    "\n",
    "    # proportional sampling\n",
    "    take = []\n",
    "    for n in lengths:\n",
    "        k = int(round(max_total * (n / total)))\n",
    "        k = min(k, n)\n",
    "        take.append(k)\n",
    "    chunks = []\n",
    "    for arr, k in zip(desc_lists, take):\n",
    "        if k == 0: \n",
    "            continue\n",
    "        idx = RNG.choice(len(arr), size=k, replace=False)\n",
    "        chunks.append(arr[idx])\n",
    "    return np.vstack(chunks) if chunks else np.zeros((0,128), np.float32)\n",
    "\n",
    "def fit_pca_and_save(desc_lists, kd, feature_name):\n",
    "    X = sample_descriptors(desc_lists, max_total=200_000)\n",
    "    assert X.shape[0] > 0, f\"No descriptors collected for {feature_name}\"\n",
    "    pca = PCA(n_components=kd, svd_solver='randomized', whiten=False, random_state=0)\n",
    "    pca.fit(X)\n",
    "    # Save PCA model\n",
    "    out = MODEL_DIR / \"gmm\" / f\"{feature_name}_pca_kd{kd}.pkl\"\n",
    "    with open(out, \"wb\") as f:\n",
    "        pickle.dump({\"mean\": pca.mean_, \"components\": pca.components_, \"explained\": pca.explained_variance_}, f)\n",
    "    return pca, out\n",
    "\n",
    "# Example: fit PCA(kd=16) for SIFT now; we’ll loop grid next cell\n",
    "pca16_sift, pca16_path = fit_pca_and_save(SIFT_LIST, kd=16, feature_name=\"sift\")\n",
    "print(\"PCA(SIFT, kd=16): saved ->\", pca16_path.name, \"| top-5 eigvals:\", pca16_sift.explained_variance_[:5])\n"
   ]
  },
  {
   "cell_type": "code",
   "execution_count": 22,
   "id": "8ca1f9f0-b6d6-430e-a1a6-20cd9aa571ff",
   "metadata": {},
   "outputs": [],
   "source": [
    "# We sampled a large pool of SIFT descriptors (capped at ~200k to save memory), fit a PCA to reduce dimensionality to kd=16, and saved the PCA model. The print shows the file name and a few of the largest eigenvalues so we can confirm the fit worked and has sensible variance."
   ]
  },
  {
   "cell_type": "code",
   "execution_count": 30,
   "id": "46505a17-1c55-4bb0-8fee-1907e4c687d0",
   "metadata": {},
   "outputs": [
    {
     "data": {
      "image/png": "[encoded data removed]",
      "text/plain": [
       "<Figure size 600x350 with 1 Axes>"
      ]
     },
     "metadata": {},
     "output_type": "display_data"
    }
   ],
   "source": [
    "# Cell 12 — eigenvalue visualization for SIFT & DSIFT (compact figure)\n",
    "import matplotlib.pyplot as plt\n",
    "\n",
    "# Fit small PCA models purely to grab eigen spectra; reuse sampler\n",
    "pca_sift_64, _ = fit_pca_and_save(SIFT_LIST, kd=64, feature_name=\"sift_tmp_view\")\n",
    "pca_dsft_64, _ = fit_pca_and_save(DSIFT_LIST, kd=64, feature_name=\"dsift_tmp_view\")\n",
    "\n",
    "plt.figure(figsize=(6,3.5))\n",
    "plt.plot(pca_sift_64.explained_variance_, label=\"SIFT eigvals\")\n",
    "plt.plot(pca_dsft_64.explained_variance_, label=\"DSIFT eigvals\")\n",
    "plt.title(\"Eigenvalue spectra (first 64)\")\n",
    "plt.xlabel(\"Component index\")\n",
    "plt.ylabel(\"Eigenvalue\")\n",
    "plt.legend()\n",
    "plt.tight_layout()\n",
    "plt.show()\n"
   ]
  },
  {
   "cell_type": "code",
   "execution_count": 21,
   "id": "d5049174-6058-4de8-8d36-7573f72e654c",
   "metadata": {},
   "outputs": [],
   "source": [
    "# This figure compares how quickly variance drops across principal components for SIFT vs. Dense SIFT. A steeper drop means most variance is captured by fewer components—useful intuition when choosing kd (16 or 32) for the aggregation stage."
   ]
  },
  {
   "cell_type": "code",
   "execution_count": 31,
   "id": "cf8842c1-9e94-42d9-b201-b7c35b05bd73",
   "metadata": {},
   "outputs": [
    {
     "name": "stdout",
     "output_type": "stream",
     "text": [
      "GMM(SIFT, kd=16, nc=64): (16, 64) (16, 64) (64,) -> sift_pca16_gmm64.pkl\n"
     ]
    }
   ],
   "source": [
    "# Cell 13 — fit a GMM in kd-dim PCA space, save mean/var/prior (diagonal cov)\n",
    "from sklearn.mixture import GaussianMixture\n",
    "import pickle\n",
    "\n",
    "def fit_gmm_and_save(desc_lists, pca, nc, feature_name, kd):\n",
    "    X = sample_descriptors(desc_lists, max_total=200_000)\n",
    "    Xp = pca.transform(X)  # project to kd\n",
    "    gmm = GaussianMixture(\n",
    "        n_components=nc, covariance_type=\"diag\", max_iter=200, reg_covar=1e-6,\n",
    "        random_state=0, init_params=\"kmeans\"\n",
    "    ).fit(Xp)\n",
    "\n",
    "    # Pack model in HW style: mean (kd x nc), var (kd x nc), prior (nc,)\n",
    "    means = gmm.means_.T.astype(np.float32)                  # (kd, nc)\n",
    "    var   = gmm.covariances_.T.astype(np.float32)            # (kd, nc) diag\n",
    "    prior = gmm.weights_.astype(np.float32)                  # (nc,)\n",
    "\n",
    "    out = MODEL_DIR / \"gmm\" / f\"{feature_name}_pca{kd}_gmm{nc}.pkl\"\n",
    "    with open(out, \"wb\") as f:\n",
    "        pickle.dump({\"mean\": means, \"var\": var, \"prior\": prior, \"kd\": kd, \"nc\": nc}, f)\n",
    "\n",
    "    return {\"mean\": means, \"var\": var, \"prior\": prior, \"kd\": kd, \"nc\": nc}, out\n",
    "\n",
    "# Example: GMM for SIFT with kd=16, nc=64\n",
    "gmm_sift_16_64, gmm_path = fit_gmm_and_save(SIFT_LIST, pca16_sift, nc=64, feature_name=\"sift\", kd=16)\n",
    "print(\"GMM(SIFT, kd=16, nc=64):\", gmm_sift_16_64[\"mean\"].shape, gmm_sift_16_64[\"var\"].shape, gmm_sift_16_64[\"prior\"].shape, \"->\", gmm_path.name)\n"
   ]
  },
  {
   "cell_type": "code",
   "execution_count": 20,
   "id": "185bb1fa-314b-4e54-95eb-d10918a5a31f",
   "metadata": {},
   "outputs": [],
   "source": [
    "# We projected a large descriptor sample into kd=16 dimensions, fit a diagonal-covariance GMM with nc=64 components, and saved {mean (kd×nc), var (kd×nc), prior (nc)} in an easy-to-load format. The printed shapes confirm everything lines up."
   ]
  },
  {
   "cell_type": "code",
   "execution_count": 32,
   "id": "daa6225f-df55-4e71-be7a-b4e6a0b7cd82",
   "metadata": {},
   "outputs": [
    {
     "name": "stdout",
     "output_type": "stream",
     "text": [
      "[sift] PCA kd=16 -> sift_pca_kd16.pkl\n",
      "[sift] GMM kd=16 nc=32 -> sift_pca16_gmm32.pkl\n",
      "[sift] GMM kd=16 nc=64 -> sift_pca16_gmm64.pkl\n",
      "[sift] GMM kd=16 nc=128 -> sift_pca16_gmm128.pkl\n",
      "[sift] PCA kd=32 -> sift_pca_kd32.pkl\n",
      "[sift] GMM kd=32 nc=32 -> sift_pca32_gmm32.pkl\n",
      "[sift] GMM kd=32 nc=64 -> sift_pca32_gmm64.pkl\n",
      "[sift] GMM kd=32 nc=128 -> sift_pca32_gmm128.pkl\n",
      "[dsift] PCA kd=16 -> dsift_pca_kd16.pkl\n",
      "[dsift] GMM kd=16 nc=32 -> dsift_pca16_gmm32.pkl\n",
      "[dsift] GMM kd=16 nc=64 -> dsift_pca16_gmm64.pkl\n",
      "[dsift] GMM kd=16 nc=128 -> dsift_pca16_gmm128.pkl\n",
      "[dsift] PCA kd=32 -> dsift_pca_kd32.pkl\n",
      "[dsift] GMM kd=32 nc=32 -> dsift_pca32_gmm32.pkl\n",
      "[dsift] GMM kd=32 nc=64 -> dsift_pca32_gmm64.pkl\n",
      "[dsift] GMM kd=32 nc=128 -> dsift_pca32_gmm128.pkl\n",
      "✅ Model grid complete.\n"
     ]
    }
   ],
   "source": [
    "# Cell 14 — train the full grid and save:\n",
    "# kd ∈ {16, 32}, nc ∈ {32, 64, 128} for SIFT and DSIFT\n",
    "import pickle\n",
    "\n",
    "KD_LIST = [16, 32]\n",
    "NC_LIST = [32, 64, 128]\n",
    "\n",
    "def train_grid_for_feature(desc_lists, feature_name):\n",
    "    pcas = {}\n",
    "    for kd in KD_LIST:\n",
    "        pca, ppath = fit_pca_and_save(desc_lists, kd, feature_name)\n",
    "        pcas[kd] = pca\n",
    "        print(f\"[{feature_name}] PCA kd={kd} ->\", Path(ppath).name)\n",
    "        for nc in NC_LIST:\n",
    "            gmm, gpath = fit_gmm_and_save(desc_lists, pca, nc, feature_name, kd)\n",
    "            print(f\"[{feature_name}] GMM kd={kd} nc={nc} ->\", Path(gpath).name)\n",
    "\n",
    "train_grid_for_feature(SIFT_LIST,  \"sift\")\n",
    "train_grid_for_feature(DSIFT_LIST, \"dsift\")\n",
    "print(\"✅ Model grid complete.\")\n"
   ]
  },
  {
   "cell_type": "code",
   "execution_count": 19,
   "id": "56d5cf2f-90a1-4e3c-ba8a-f5bbf5709641",
   "metadata": {},
   "outputs": [],
   "source": [
    "# We now implement getFisherVector(f, A, gmm, kd, nc) in the style of your reference script: compute responsibilities against diagonal-cov Gaussians, accumulate weights / means / variances stats, and apply signed square-root (power) + L2 normalization."
   ]
  },
  {
   "cell_type": "code",
   "execution_count": 33,
   "id": "0147e5a9-c7fd-45db-9ed8-31c466ac418c",
   "metadata": {},
   "outputs": [],
   "source": [
    "# Cell 15 — Fisher Vector (weights, means, variances) with power+L2 norm\n",
    "import numpy as np\n",
    "\n",
    "def _soft_assign_diag(Xp, gmm):\n",
    "    # Xp: (n, kd) projected features\n",
    "    # returns responsibilities gamma: (n, nc)\n",
    "    kd, nc = gmm[\"kd\"], gmm[\"nc\"]\n",
    "    means = gmm[\"mean\"].T      # (nc, kd)\n",
    "    var   = gmm[\"var\"].T       # (nc, kd) diag\n",
    "    prior = gmm[\"prior\"]       # (nc,)\n",
    "\n",
    "    # log-prob for numerical stability: diagonal Gaussians\n",
    "    # log N(x|m,diag(v)) = -0.5*(sum( log(2πv) + (x-m)^2 / v ))\n",
    "    log2pi = np.log(2*np.pi)\n",
    "    log_prob = []\n",
    "    for k in range(nc):\n",
    "        vk = var[k]                  # (kd,)\n",
    "        mk = means[k]                # (kd,)\n",
    "        term = -0.5*(np.sum(np.log(log2pi*vk)) + np.sum(((Xp - mk)**2)/vk, axis=1))\n",
    "        log_prob.append(np.log(prior[k] + 1e-12) + term)\n",
    "    log_prob = np.vstack(log_prob).T  # (n, nc)\n",
    "\n",
    "    # softmax\n",
    "    m = log_prob.max(axis=1, keepdims=True)\n",
    "    P = np.exp(log_prob - m)\n",
    "    gamma = P / (P.sum(axis=1, keepdims=True) + 1e-12)\n",
    "    return gamma  # (n, nc)\n",
    "\n",
    "def getFisherVector(f_nd, A, gmm, kd, nc):\n",
    "    \"\"\"\n",
    "    f_nd: (n x d) raw descriptors\n",
    "    A: PCA model dict {\"mean\", \"components\", \"explained\"} or sklearn PCA\n",
    "    gmm: {\"mean\": kd x nc, \"var\": kd x nc, \"prior\": nc}\n",
    "    returns: FV vector of length nc*(1 + kd + kd)\n",
    "    \"\"\"\n",
    "    # PCA project to kd\n",
    "    if isinstance(A, dict):\n",
    "        mu = A[\"mean\"]; W = A[\"components\"][:kd]  # (kd, d)\n",
    "        Xp = (f_nd - mu) @ W.T\n",
    "    else:\n",
    "        Xp = A.transform(f_nd)  # sklearn PCA\n",
    "\n",
    "    gamma = _soft_assign_diag(Xp, gmm)  # (n, nc)\n",
    "    T = float(Xp.shape[0])\n",
    "    if T == 0:\n",
    "        # empty fallback\n",
    "        dim = nc*(1 + kd + kd)\n",
    "        return np.zeros((dim,), np.float32)\n",
    "\n",
    "    means = gmm[\"mean\"]      # (kd, nc)\n",
    "    var   = gmm[\"var\"]       # (kd, nc)\n",
    "    prior = gmm[\"prior\"]     # (nc,)\n",
    "\n",
    "    # Sufficient stats per k\n",
    "    # s0[k] = sum_t gamma_tk\n",
    "    s0 = gamma.sum(axis=0)                                # (nc,)\n",
    "    # s1[k] = sum_t gamma_tk * x_t\n",
    "    s1 = Xp.T @ gamma                                     # (kd, nc)\n",
    "    # s2[k] = sum_t gamma_tk * x_t^2\n",
    "    s2 = (Xp**2).T @ gamma                                # (kd, nc)\n",
    "\n",
    "    # Assemble FV parts (weights, means, variances) — match reference style\n",
    "    w_part = (s0 - T*prior) / np.sqrt(prior + 1e-12)      # (nc,)\n",
    "\n",
    "    # diagonal sigma is var\n",
    "    sigma = var\n",
    "    m_part = (s1 - means*s0) / np.sqrt((prior*sigma).T + 1e-12).T   # (kd, nc)\n",
    "    v_part = (s2 - 2*means*s1 + (means**2 - sigma)*s0) / np.sqrt((2*prior*(sigma**2)).T + 1e-12).T  # (kd, nc)\n",
    "\n",
    "    fv = np.concatenate([w_part.ravel(), m_part.ravel(order=\"F\"), v_part.ravel(order=\"F\")]).astype(np.float32)\n",
    "\n",
    "    # Power-normalize then L2-normalize\n",
    "    fv = np.sign(fv) * np.sqrt(np.abs(fv))\n",
    "    fv_norm = np.linalg.norm(fv) + 1e-12\n",
    "    fv = fv / fv_norm\n",
    "    return fv\n"
   ]
  },
  {
   "cell_type": "code",
   "execution_count": 57,
   "id": "f3b5ba1a-0e91-450e-b308-13d6f9adaa82",
   "metadata": {},
   "outputs": [],
   "source": [
    "# Cell 15a — patch getFisherVector to use stored z-score params if present\n",
    "def getFisherVector(f_nd, A, gmm, kd, nc):\n",
    "    # PCA project\n",
    "    if isinstance(A, dict):\n",
    "        mu = A[\"mean\"]; W = A[\"components\"][:kd]\n",
    "        Xp = (f_nd - mu) @ W.T\n",
    "    else:\n",
    "        Xp = A.transform(f_nd)\n",
    "\n",
    "    # If GMM stored z-score params, apply them\n",
    "    z_mu = gmm.get(\"z_mu\", None)\n",
    "    z_sd = gmm.get(\"z_sd\", None)\n",
    "    if z_mu is not None and z_sd is not None:\n",
    "        Xp = (Xp - z_mu) / (z_sd + 1e-9)\n",
    "\n",
    "    gamma = _soft_assign_diag(Xp, gmm)\n",
    "    T = float(Xp.shape[0])\n",
    "    if T == 0:\n",
    "        return np.zeros((nc*(1 + kd + kd),), np.float32)\n",
    "\n",
    "    means = gmm[\"mean\"]; var = gmm[\"var\"]; prior = gmm[\"prior\"]\n",
    "\n",
    "    s0 = gamma.sum(axis=0)\n",
    "    s1 = Xp.T @ gamma\n",
    "    s2 = (Xp**2).T @ gamma\n",
    "\n",
    "    w_part = (s0 - T*prior) / np.sqrt(prior + 1e-12)\n",
    "    sigma = var\n",
    "    m_part = (s1 - means*s0) / np.sqrt((prior*sigma).T + 1e-12).T\n",
    "    v_part = (s2 - 2*means*s1 + (means**2 - sigma)*s0) / np.sqrt((2*prior*(sigma**2)).T + 1e-12).T\n",
    "\n",
    "    fv = np.concatenate([w_part.ravel(), m_part.ravel(order=\"F\"), v_part.ravel(order=\"F\")]).astype(np.float32)\n",
    "    fv = np.sign(fv) * np.sqrt(np.abs(fv))\n",
    "    fv /= (np.linalg.norm(fv) + 1e-12)\n",
    "    return fv\n"
   ]
  },
  {
   "cell_type": "code",
   "execution_count": 26,
   "id": "654d66fb-83f1-4e63-9b05-e5fdcd35f72b",
   "metadata": {},
   "outputs": [],
   "source": [
    "# We implemented Fisher Vectors using diagonal-covariance GMMs: compute responsibilities, accumulate the 0th/1st/2nd order stats, stack the weights/means/variances parts, then apply signed square-root and L2 normalization—the standard recipe for FV embeddings."
   ]
  },
  {
   "cell_type": "code",
   "execution_count": 34,
   "id": "970183f3-d5a5-4657-9901-91bfd0dda97e",
   "metadata": {},
   "outputs": [
    {
     "name": "stdout",
     "output_type": "stream",
     "text": [
      "FV shape (should be 64*(1+16+16)=2112): (2112,)\n"
     ]
    }
   ],
   "source": [
    "# Cell 16 — FV smoke test: compute FV for one image using SIFT, kd=16, nc=64\n",
    "import pickle, cv2, random\n",
    "\n",
    "# Load PCA/GMM we trained above\n",
    "with open(MODEL_DIR / \"gmm\" / f\"sift_pca_kd16.pkl\", \"rb\") as f:\n",
    "    pca_dict_16 = pickle.load(f)\n",
    "with open(MODEL_DIR / \"gmm\" / f\"sift_pca16_gmm64.pkl\", \"rb\") as f:\n",
    "    gmm_16_64 = pickle.load(f)\n",
    "\n",
    "# Pick an image\n",
    "p = IMG_PATHS[0]\n",
    "im = cv2.imread(str(p), cv2.IMREAD_GRAYSCALE)\n",
    "f_s = getImageFeatures(im, {\"type\":\"sift\"})\n",
    "\n",
    "fv = getFisherVector(f_s, pca_dict_16, gmm_16_64, kd=16, nc=64)\n",
    "print(\"FV shape (should be 64*(1+16+16)=2112):\", fv.shape)\n"
   ]
  },
  {
   "cell_type": "code",
   "execution_count": 27,
   "id": "c9213492-d12a-4a20-97b2-49823fe9adec",
   "metadata": {},
   "outputs": [],
   "source": [
    "# We computed a Fisher Vector for one test image using SIFT, kd=16, nc=64. The expected dimensionality is nc*(1 + kd + kd) = 64*(1+16+16) = 2112. The printout confirms the FV length, so we’re ready to batch-build FVs and evaluate with k-NN and confusion matrices."
   ]
  },
  {
   "cell_type": "code",
   "execution_count": 39,
   "id": "cd818234-e7c7-4346-b11f-6477920afd3f",
   "metadata": {},
   "outputs": [
    {
     "name": "stdout",
     "output_type": "stream",
     "text": [
      "FV SIFT kd=16 nc=64 -> (900, 2112)\n"
     ]
    }
   ],
   "source": [
    "# Cell 17 — batch FV computation for given feature list + model grid\n",
    "import pickle\n",
    "\n",
    "def load_pca(feature_name, kd):\n",
    "    with open(MODEL_DIR / \"gmm\" / f\"{feature_name}_pca_kd{kd}.pkl\", \"rb\") as f:\n",
    "        return pickle.load(f)\n",
    "\n",
    "def load_gmm(feature_name, kd, nc):\n",
    "    with open(MODEL_DIR / \"gmm\" / f\"{feature_name}_pca{kd}_gmm{nc}.pkl\", \"rb\") as f:\n",
    "        return pickle.load(f)\n",
    "\n",
    "def build_FVs(desc_lists, feature_name, kd, nc):\n",
    "    # Load PCA & GMM\n",
    "    pca_dict = load_pca(feature_name, kd)\n",
    "    gmm_dict = load_gmm(feature_name, kd, nc)\n",
    "    FVs = []\n",
    "    for arr in desc_lists:\n",
    "        fv = getFisherVector(arr, pca_dict, gmm_dict, kd, nc)\n",
    "        FVs.append(fv)\n",
    "    return np.vstack(FVs)\n",
    "\n",
    "# Example: build all FVs for SIFT, kd=16, nc=64\n",
    "fv_sift_16_64 = build_FVs(SIFT_LIST, \"sift\", kd=16, nc=64)\n",
    "print(\"FV SIFT kd=16 nc=64 ->\", fv_sift_16_64.shape)\n"
   ]
  },
  {
   "cell_type": "code",
   "execution_count": 35,
   "id": "47aa8773-a8f7-4f36-9602-9acd8123775e",
   "metadata": {},
   "outputs": [],
   "source": [
    "# This cell computes Fisher Vectors for all images given a feature type and PCA+GMM model. Each FV is a row in a big matrix (n_images × FV_dimension). The example confirms the size for SIFT kd=16, nc=64."
   ]
  },
  {
   "cell_type": "code",
   "execution_count": 40,
   "id": "13bf0766-c0cb-4a8a-8f21-1d4282e5f765",
   "metadata": {},
   "outputs": [
    {
     "name": "stdout",
     "output_type": "stream",
     "text": [
      "SIFT FV kd=16 nc=64 accuracy: 1.0\n",
      "Confusion matrix shape: (15, 15)\n"
     ]
    }
   ],
   "source": [
    "# Cell 18 — leave-one-out kNN (k=1) with confusion matrix\n",
    "from sklearn.neighbors import KNeighborsClassifier\n",
    "from sklearn.metrics import confusion_matrix\n",
    "\n",
    "def knn_leave1out(FVs, labels):\n",
    "    knn = KNeighborsClassifier(n_neighbors=1, metric=\"euclidean\")\n",
    "    knn.fit(FVs, labels)\n",
    "    preds = knn.predict(FVs)\n",
    "    cm = confusion_matrix(labels, preds, labels=range(len(CLASS_LIST)))\n",
    "    acc = np.trace(cm) / np.sum(cm)\n",
    "    return acc, cm\n",
    "\n",
    "# Example: accuracy for SIFT kd=16 nc=64\n",
    "acc, cm = knn_leave1out(fv_sift_16_64, LABELS)\n",
    "print(\"SIFT FV kd=16 nc=64 accuracy:\", acc)\n",
    "print(\"Confusion matrix shape:\", cm.shape)\n"
   ]
  },
  {
   "cell_type": "code",
   "execution_count": 36,
   "id": "cb85d8a3-e126-41af-9c66-75bd8aedce79",
   "metadata": {},
   "outputs": [],
   "source": [
    "# We ran 1-NN (leave-one-out) classification on the FV embeddings and built a confusion matrix. Accuracy is the ratio of correctly predicted labels to all labels. The confusion matrix will be used for plotting detailed class-level performance."
   ]
  },
  {
   "cell_type": "code",
   "execution_count": 47,
   "id": "db13cb8c-d7fd-4d09-8828-5b4ad9097df5",
   "metadata": {},
   "outputs": [
    {
     "name": "stdout",
     "output_type": "stream",
     "text": [
      "SIFT FV kd=16 nc=64 (TRUE LOO) accuracy: 0.13777777777777778\n",
      "Confusion matrix shape: (15, 15)\n"
     ]
    }
   ],
   "source": [
    "# Cell 18b — true LOO using pairwise distances (excludes self-matches)\n",
    "import numpy as np\n",
    "from sklearn.metrics import pairwise_distances\n",
    "from sklearn.metrics import confusion_matrix\n",
    "\n",
    "def knn_leave1out_true(FVs, labels, metric=\"euclidean\"):\n",
    "    labels = np.asarray(labels)\n",
    "    D = pairwise_distances(FVs, metric=metric)  # (N, N)\n",
    "    np.fill_diagonal(D, np.inf)                 # exclude self\n",
    "    nn_idx = D.argmin(axis=1)                   # nearest *other* sample\n",
    "    preds = labels[nn_idx]\n",
    "    cm = confusion_matrix(labels, preds, labels=np.arange(len(CLASS_LIST)))\n",
    "    acc = np.trace(cm) / np.sum(cm)\n",
    "    return acc, cm, preds\n",
    "\n",
    "# Re-evaluate the earlier example:\n",
    "acc_true, cm_true, preds_true = knn_leave1out_true(fv_sift_16_64, LABELS)\n",
    "print(\"SIFT FV kd=16 nc=64 (TRUE LOO) accuracy:\", acc_true)\n",
    "print(\"Confusion matrix shape:\", cm_true.shape)\n"
   ]
  },
  {
   "cell_type": "code",
   "execution_count": 44,
   "id": "94a2ceb9-a1bc-4ef0-9452-3c66937022bb",
   "metadata": {},
   "outputs": [],
   "source": [
    "# We rebuilt evaluation correctly: for each image, we find its nearest other Fisher Vector (not itself) and use that label as the prediction. This is a genuine leave-one-out check. The accuracy and confusion matrix are now meaningful."
   ]
  },
  {
   "cell_type": "code",
   "execution_count": 41,
   "id": "74611163-52ab-4f44-b08f-fcfb8d4ad8ab",
   "metadata": {},
   "outputs": [
    {
     "name": "stdout",
     "output_type": "stream",
     "text": [
      "SIFT kd=16 nc=32: 1.000\n",
      "SIFT kd=16 nc=64: 1.000\n",
      "SIFT kd=16 nc=128: 1.000\n",
      "SIFT kd=32 nc=32: 1.000\n",
      "SIFT kd=32 nc=64: 1.000\n",
      "SIFT kd=32 nc=128: 1.000\n",
      "DSIFT kd=16 nc=32: 1.000\n",
      "DSIFT kd=16 nc=64: 1.000\n",
      "DSIFT kd=16 nc=128: 1.000\n",
      "DSIFT kd=32 nc=32: 1.000\n",
      "DSIFT kd=32 nc=64: 1.000\n",
      "DSIFT kd=32 nc=128: 1.000\n"
     ]
    }
   ],
   "source": [
    "# Cell 19 — run grid {kd=16,32} × {nc=32,64,128} for SIFT & DSIFT\n",
    "results = {\"sift\": {}, \"dsift\": {}}\n",
    "\n",
    "for feat, desc_lists in [(\"sift\", SIFT_LIST), (\"dsift\", DSIFT_LIST)]:\n",
    "    for kd in KD_LIST:\n",
    "        for nc in NC_LIST:\n",
    "            FVs = build_FVs(desc_lists, feat, kd, nc)\n",
    "            acc, cm = knn_leave1out(FVs, LABELS)\n",
    "            results[feat][(kd, nc)] = acc\n",
    "            print(f\"{feat.upper()} kd={kd} nc={nc}: {acc:.3f}\")\n"
   ]
  },
  {
   "cell_type": "code",
   "execution_count": 37,
   "id": "dc129d52-fcc2-4416-9b82-40960ee65803",
   "metadata": {},
   "outputs": [],
   "source": [
    "# We evaluated the Fisher Vector pipeline across all required settings. The printout shows accuracies for each (kd, nc) combination for SIFT and Dense SIFT. These populate the recognition tables requested in the assignment."
   ]
  },
  {
   "cell_type": "code",
   "execution_count": 48,
   "id": "92929bc0-ff3c-477c-ab10-da2922a06918",
   "metadata": {},
   "outputs": [
    {
     "name": "stdout",
     "output_type": "stream",
     "text": [
      "SIFT (TRUE LOO) kd=16 nc=32: 0.201\n",
      "SIFT (TRUE LOO) kd=16 nc=64: 0.138\n",
      "SIFT (TRUE LOO) kd=16 nc=128: 0.090\n",
      "SIFT (TRUE LOO) kd=32 nc=32: 0.159\n",
      "SIFT (TRUE LOO) kd=32 nc=64: 0.103\n",
      "SIFT (TRUE LOO) kd=32 nc=128: 0.076\n",
      "DSIFT (TRUE LOO) kd=16 nc=32: 0.474\n",
      "DSIFT (TRUE LOO) kd=16 nc=64: 0.488\n",
      "DSIFT (TRUE LOO) kd=16 nc=128: 0.484\n",
      "DSIFT (TRUE LOO) kd=32 nc=32: 0.519\n",
      "DSIFT (TRUE LOO) kd=32 nc=64: 0.523\n",
      "DSIFT (TRUE LOO) kd=32 nc=128: 0.559\n"
     ]
    }
   ],
   "source": [
    "# Cell 19b — grid results (true LOO) for SIFT & DSIFT\n",
    "results_true = {\"sift\": {}, \"dsift\": {}}\n",
    "cms_true = {\"sift\": {}, \"dsift\": {}}\n",
    "\n",
    "for feat, desc_lists in [(\"sift\", SIFT_LIST), (\"dsift\", DSIFT_LIST)]:\n",
    "    for kd in KD_LIST:\n",
    "        for nc in NC_LIST:\n",
    "            FVs = build_FVs(desc_lists, feat, kd, nc)\n",
    "            acc, cm, _ = knn_leave1out_true(FVs, LABELS)\n",
    "            results_true[feat][(kd, nc)] = acc\n",
    "            cms_true[feat][(kd, nc)] = cm\n",
    "            print(f\"{feat.upper()} (TRUE LOO) kd={kd} nc={nc}: {acc:.3f}\")\n"
   ]
  },
  {
   "cell_type": "code",
   "execution_count": 45,
   "id": "ca5fe262-4f30-4b4a-8555-9bd68219348a",
   "metadata": {},
   "outputs": [],
   "source": [
    "# This prints the recognition accuracy for each PCA/GMM setting under true leave-one-out. We’ll use these numbers for the homework tables."
   ]
  },
  {
   "cell_type": "code",
   "execution_count": 43,
   "id": "414600d2-c698-48b4-be28-ec6d5fadfcc6",
   "metadata": {},
   "outputs": [
    {
     "data": {
      "image/png": "[encoded data removed]",
      "text/plain": [
       "<Figure size 800x600 with 2 Axes>"
      ]
     },
     "metadata": {},
     "output_type": "display_data"
    }
   ],
   "source": [
    "# Cell 20 — plot confusion matrix (e.g. SIFT kd=16 nc=64)\n",
    "import seaborn as sns\n",
    "import matplotlib.pyplot as plt\n",
    "\n",
    "plt.figure(figsize=(8,6))\n",
    "sns.heatmap(cm, annot=False, cmap=\"Blues\",\n",
    "            xticklabels=[c.name for c in CLASS_LIST],\n",
    "            yticklabels=[c.name for c in CLASS_LIST])\n",
    "plt.title(\"Confusion Matrix — SIFT FV kd=16 nc=64\")\n",
    "plt.xlabel(\"Predicted\")\n",
    "plt.ylabel(\"True\")\n",
    "plt.tight_layout()\n",
    "plt.show()\n"
   ]
  },
  {
   "cell_type": "code",
   "execution_count": 38,
   "id": "e1404086-6b73-46ac-9ef8-5c9d1cf62541",
   "metadata": {},
   "outputs": [],
   "source": [
    "# This confusion map visualizes how well each class is recognized. The diagonal shows correct matches; off-diagonals highlight misclassifications. We’ll produce maps for each feature type and kd/nc combination as required."
   ]
  },
  {
   "cell_type": "code",
   "execution_count": 50,
   "id": "5237c9ca-ca96-4501-87e3-fcb408c1c37c",
   "metadata": {},
   "outputs": [
    {
     "data": {
      "image/png": "[encoded data removed]",
      "text/plain": [
       "<Figure size 800x600 with 2 Axes>"
      ]
     },
     "metadata": {},
     "output_type": "display_data"
    }
   ],
   "source": [
    "# Cell 20b — confusion matrix plot for a representative combo (TRUE LOO)\n",
    "import seaborn as sns\n",
    "import matplotlib.pyplot as plt\n",
    "\n",
    "feat_demo, kd_demo, nc_demo = \"sift\", 16, 64\n",
    "cm_demo = cms_true[feat_demo][(kd_demo, nc_demo)]\n",
    "\n",
    "plt.figure(figsize=(8,6))\n",
    "sns.heatmap(cm_demo, annot=False, cmap=\"Blues\",\n",
    "            xticklabels=[c.name for c in CLASS_LIST],\n",
    "            yticklabels=[c.name for c in CLASS_LIST])\n",
    "plt.title(f\"Confusion Matrix (TRUE LOO) — {feat_demo.upper()} FV kd={kd_demo} nc={nc_demo}\")\n",
    "plt.xlabel(\"Predicted\")\n",
    "plt.ylabel(\"True\")\n",
    "plt.tight_layout()\n",
    "plt.show()\n"
   ]
  },
  {
   "cell_type": "code",
   "execution_count": 46,
   "id": "7ccb4a02-434d-4194-af7c-319aaa9afde5",
   "metadata": {},
   "outputs": [],
   "source": [
    "# This is the corrected confusion map using true leave-one-out. Diagonal strength still reflects correct predictions, but any class confusion will now appear realistically."
   ]
  },
  {
   "cell_type": "code",
   "execution_count": 51,
   "id": "202b32d6-310a-4595-8c97-dc75874c067d",
   "metadata": {},
   "outputs": [
    {
     "name": "stdout",
     "output_type": "stream",
     "text": [
      "Example HoGf[0] shape: (1, 34596)\n",
      "Total HoGf samples: 900\n"
     ]
    }
   ],
   "source": [
    "# Cell 21 — compute HoGf descriptors for all 900 images\n",
    "import cv2\n",
    "\n",
    "HOGF_LIST = []\n",
    "for p in IMG_PATHS:\n",
    "    im = cv2.imread(str(p), cv2.IMREAD_GRAYSCALE)\n",
    "    f_h = getImageFeatures(im, {\"type\": \"hogf\"})\n",
    "    HOGF_LIST.append(f_h)\n",
    "\n",
    "print(\"Example HoGf[0] shape:\", HOGF_LIST[0].shape)\n",
    "print(\"Total HoGf samples:\", len(HOGF_LIST))\n"
   ]
  },
  {
   "cell_type": "code",
   "execution_count": 52,
   "id": "9962b4f3-6223-40ed-99aa-fde3dd2adadf",
   "metadata": {},
   "outputs": [],
   "source": [
    "# We extracted Histogram of Oriented Gradients features for all 900 images. Each image contributes one high-dimensional descriptor (~35k dimensions in our settings)."
   ]
  },
  {
   "cell_type": "code",
   "execution_count": 58,
   "id": "61d41e07-3c8e-44cf-b25f-a8857470940f",
   "metadata": {},
   "outputs": [],
   "source": [
    "# Cell 22a — robust GMM fitter for HoGf (also safe for SIFT/DSIFT)\n",
    "from sklearn.mixture import GaussianMixture\n",
    "\n",
    "def fit_gmm_and_save(desc_lists, pca, nc, feature_name, kd):\n",
    "    # 1) sample & project\n",
    "    X = sample_descriptors(desc_lists, max_total=200_000)\n",
    "    Xp = pca.transform(X)  # (N, kd)\n",
    "\n",
    "    # 2) standardize per-dimension to stabilize diagonal covariances\n",
    "    mu = Xp.mean(axis=0, keepdims=True)\n",
    "    sd = Xp.std(axis=0, keepdims=True) + 1e-9\n",
    "    Xz = (Xp - mu) / sd\n",
    "\n",
    "    # 3) try a ladder of reg_covar values until EM converges without singularities\n",
    "    tried = []\n",
    "    for reg in [1e-6, 1e-5, 1e-4, 1e-3]:\n",
    "        try:\n",
    "            gmm = GaussianMixture(\n",
    "                n_components=nc,\n",
    "                covariance_type=\"diag\",\n",
    "                max_iter=300,\n",
    "                n_init=3,\n",
    "                reg_covar=reg,\n",
    "                random_state=0,\n",
    "                init_params=\"kmeans\",\n",
    "                tol=1e-3,\n",
    "            ).fit(Xz)\n",
    "            tried.append(reg)\n",
    "            break\n",
    "        except ValueError as e:\n",
    "            tried.append(f\"fail({reg})\")\n",
    "            gmm = None\n",
    "            continue\n",
    "\n",
    "    if gmm is None:\n",
    "        raise RuntimeError(f\"GMM failed for {feature_name} kd={kd} nc={nc}; attempts: {tried}\")\n",
    "\n",
    "    # 4) unpack back into HW format (note we keep scaling effect implicit in the model)\n",
    "    means_z = gmm.means_.T.astype(np.float32)          # (kd, nc) in z-space\n",
    "    var_z   = gmm.covariances_.T.astype(np.float32)    # (kd, nc) diag in z-space\n",
    "    prior   = gmm.weights_.astype(np.float32)          # (nc,)\n",
    "\n",
    "    # Store the standardization so FV can apply same transform at inference\n",
    "    out = MODEL_DIR / \"gmm\" / f\"{feature_name}_pca{kd}_gmm{nc}.pkl\"\n",
    "    with open(out, \"wb\") as f:\n",
    "        pickle.dump(\n",
    "            {\n",
    "                \"mean\": means_z,\n",
    "                \"var\": var_z,\n",
    "                \"prior\": prior,\n",
    "                \"kd\": kd,\n",
    "                \"nc\": nc,\n",
    "                \"z_mu\": mu.squeeze().astype(np.float32),\n",
    "                \"z_sd\": sd.squeeze().astype(np.float32),\n",
    "                \"reg_used\": reg,\n",
    "            },\n",
    "            f,\n",
    "        )\n",
    "    return {\"mean\": means_z, \"var\": var_z, \"prior\": prior, \"kd\": kd, \"nc\": nc,\n",
    "            \"z_mu\": mu.squeeze().astype(np.float32), \"z_sd\": sd.squeeze().astype(np.float32)}, out\n"
   ]
  },
  {
   "cell_type": "code",
   "execution_count": null,
   "id": "e8f10954-45f8-4125-9342-7340a7d594ae",
   "metadata": {},
   "outputs": [],
   "source": [
    "# We stabilized HoGf’s GMM training by (a) standardizing PCA outputs and (b) raising the covariance regularization if EM detects near-singular covariances. This prevents components from collapsing and lets the model converge."
   ]
  },
  {
   "cell_type": "code",
   "execution_count": 59,
   "id": "552a47b5-de8c-4e32-92ff-1136038da8e9",
   "metadata": {},
   "outputs": [
    {
     "name": "stdout",
     "output_type": "stream",
     "text": [
      "[hogf] PCA kd=16 -> hogf_pca_kd16.pkl\n",
      "[hogf] GMM kd=16 nc=32 -> hogf_pca16_gmm32.pkl\n",
      "[hogf] GMM kd=16 nc=64 -> hogf_pca16_gmm64.pkl\n",
      "[hogf] GMM kd=16 nc=128 -> hogf_pca16_gmm128.pkl\n",
      "[hogf] PCA kd=32 -> hogf_pca_kd32.pkl\n",
      "[hogf] GMM kd=32 nc=32 -> hogf_pca32_gmm32.pkl\n",
      "[hogf] GMM kd=32 nc=64 -> hogf_pca32_gmm64.pkl\n",
      "[hogf] GMM kd=32 nc=128 -> hogf_pca32_gmm128.pkl\n",
      "✅ HoGf PCA+GMM grid complete.\n"
     ]
    }
   ],
   "source": [
    "# Cell 22 — train PCA+GMM models for HoGf\n",
    "train_grid_for_feature(HOGF_LIST, \"hogf\")\n",
    "print(\"✅ HoGf PCA+GMM grid complete.\")\n"
   ]
  },
  {
   "cell_type": "code",
   "execution_count": 54,
   "id": "06524037-d271-4df8-850e-338aec458c7d",
   "metadata": {},
   "outputs": [],
   "source": [
    "# We reduced HoGf dimensions with PCA (kd=16, 32) and trained GMMs with nc=32, 64, 128. This gives us the full model grid needed for Fisher Vectors."
   ]
  },
  {
   "cell_type": "code",
   "execution_count": 60,
   "id": "a4db8554-5cb6-440b-afb7-ddad466933c3",
   "metadata": {},
   "outputs": [
    {
     "name": "stdout",
     "output_type": "stream",
     "text": [
      "HOGF (TRUE LOO) kd=16 nc=32: 0.340\n",
      "HOGF (TRUE LOO) kd=16 nc=64: 0.303\n",
      "HOGF (TRUE LOO) kd=16 nc=128: 0.229\n",
      "HOGF (TRUE LOO) kd=32 nc=32: 0.329\n",
      "HOGF (TRUE LOO) kd=32 nc=64: 0.289\n",
      "HOGF (TRUE LOO) kd=32 nc=128: 0.270\n"
     ]
    }
   ],
   "source": [
    "# Cell 23 — run grid for HoGf with true LOO\n",
    "results_true[\"hogf\"] = {}\n",
    "cms_true[\"hogf\"] = {}\n",
    "\n",
    "for kd in KD_LIST:\n",
    "    for nc in NC_LIST:\n",
    "        FVs = build_FVs(HOGF_LIST, \"hogf\", kd, nc)\n",
    "        acc, cm, _ = knn_leave1out_true(FVs, LABELS)\n",
    "        results_true[\"hogf\"][(kd, nc)] = acc\n",
    "        cms_true[\"hogf\"][(kd, nc)] = cm\n",
    "        print(f\"HOGF (TRUE LOO) kd={kd} nc={nc}: {acc:.3f}\")\n"
   ]
  },
  {
   "cell_type": "code",
   "execution_count": 55,
   "id": "d9fa8c75-48ba-400a-b247-d1536c5e490e",
   "metadata": {},
   "outputs": [],
   "source": [
    "# We evaluated HoGf Fisher Vectors with leave-one-out kNN across the PCA/GMM grid. This completes the required accuracy tables for all three feature types."
   ]
  },
  {
   "cell_type": "code",
   "execution_count": 61,
   "id": "47596cb4-725d-4e43-9ad9-78a544a038af",
   "metadata": {},
   "outputs": [
    {
     "data": {
      "image/png": "[encoded data removed]",
      "text/plain": [
       "<Figure size 800x600 with 2 Axes>"
      ]
     },
     "metadata": {},
     "output_type": "display_data"
    }
   ],
   "source": [
    "# Cell 24 — confusion map for HoGf kd=16 nc=64\n",
    "cm_hogf = cms_true[\"hogf\"][(16,64)]\n",
    "\n",
    "plt.figure(figsize=(8,6))\n",
    "sns.heatmap(cm_hogf, annot=False, cmap=\"Greens\",\n",
    "            xticklabels=[c.name for c in CLASS_LIST],\n",
    "            yticklabels=[c.name for c in CLASS_LIST])\n",
    "plt.title(\"Confusion Matrix (TRUE LOO) — HOGF FV kd=16 nc=64\")\n",
    "plt.xlabel(\"Predicted\")\n",
    "plt.ylabel(\"True\")\n",
    "plt.tight_layout()\n",
    "plt.show()\n"
   ]
  },
  {
   "cell_type": "code",
   "execution_count": 56,
   "id": "3615b5bb-a5d0-405b-a82b-0f77daae2f1f",
   "metadata": {},
   "outputs": [],
   "source": [
    "# This shows the class-level confusion for HoGf FV at kd=16, nc=64. Together with the SIFT and DSIFT maps, this gives a complete view of feature performance."
   ]
  },
  {
   "cell_type": "code",
   "execution_count": 62,
   "id": "76d38c0c-88e2-4ca0-8375-416797f5b2ed",
   "metadata": {},
   "outputs": [
    {
     "name": "stdout",
     "output_type": "stream",
     "text": [
      "Saved tables:\n",
      "   /home/manny-buff/projects/cv-hw2/reports/accuracy_sift_fv_trueLOO.csv\n",
      "   /home/manny-buff/projects/cv-hw2/reports/accuracy_dsift_fv_trueLOO.csv\n",
      "   /home/manny-buff/projects/cv-hw2/reports/accuracy_hogf_fv_trueLOO.csv\n"
     ]
    },
    {
     "data": {
      "text/html": [
       "<div>\n",
       "<style scoped>\n",
       "    .dataframe tbody tr th:only-of-type {\n",
       "        vertical-align: middle;\n",
       "    }\n",
       "\n",
       "    .dataframe tbody tr th {\n",
       "        vertical-align: top;\n",
       "    }\n",
       "\n",
       "    .dataframe thead th {\n",
       "        text-align: right;\n",
       "    }\n",
       "</style>\n",
       "<table border=\"1\" class=\"dataframe\">\n",
       "  <thead>\n",
       "    <tr style=\"text-align: right;\">\n",
       "      <th></th>\n",
       "      <th>kd/nc</th>\n",
       "      <th>32</th>\n",
       "      <th>64</th>\n",
       "      <th>128</th>\n",
       "    </tr>\n",
       "  </thead>\n",
       "  <tbody>\n",
       "    <tr>\n",
       "      <th>0</th>\n",
       "      <td>16</td>\n",
       "      <td>0.201</td>\n",
       "      <td>0.138</td>\n",
       "      <td>0.090</td>\n",
       "    </tr>\n",
       "    <tr>\n",
       "      <th>1</th>\n",
       "      <td>32</td>\n",
       "      <td>0.159</td>\n",
       "      <td>0.103</td>\n",
       "      <td>0.076</td>\n",
       "    </tr>\n",
       "  </tbody>\n",
       "</table>\n",
       "</div>"
      ],
      "text/plain": [
       "   kd/nc     32     64    128\n",
       "0     16  0.201  0.138  0.090\n",
       "1     32  0.159  0.103  0.076"
      ]
     },
     "metadata": {},
     "output_type": "display_data"
    },
    {
     "data": {
      "text/html": [
       "<div>\n",
       "<style scoped>\n",
       "    .dataframe tbody tr th:only-of-type {\n",
       "        vertical-align: middle;\n",
       "    }\n",
       "\n",
       "    .dataframe tbody tr th {\n",
       "        vertical-align: top;\n",
       "    }\n",
       "\n",
       "    .dataframe thead th {\n",
       "        text-align: right;\n",
       "    }\n",
       "</style>\n",
       "<table border=\"1\" class=\"dataframe\">\n",
       "  <thead>\n",
       "    <tr style=\"text-align: right;\">\n",
       "      <th></th>\n",
       "      <th>kd/nc</th>\n",
       "      <th>32</th>\n",
       "      <th>64</th>\n",
       "      <th>128</th>\n",
       "    </tr>\n",
       "  </thead>\n",
       "  <tbody>\n",
       "    <tr>\n",
       "      <th>0</th>\n",
       "      <td>16</td>\n",
       "      <td>0.474</td>\n",
       "      <td>0.488</td>\n",
       "      <td>0.484</td>\n",
       "    </tr>\n",
       "    <tr>\n",
       "      <th>1</th>\n",
       "      <td>32</td>\n",
       "      <td>0.519</td>\n",
       "      <td>0.523</td>\n",
       "      <td>0.559</td>\n",
       "    </tr>\n",
       "  </tbody>\n",
       "</table>\n",
       "</div>"
      ],
      "text/plain": [
       "   kd/nc     32     64    128\n",
       "0     16  0.474  0.488  0.484\n",
       "1     32  0.519  0.523  0.559"
      ]
     },
     "metadata": {},
     "output_type": "display_data"
    },
    {
     "data": {
      "text/html": [
       "<div>\n",
       "<style scoped>\n",
       "    .dataframe tbody tr th:only-of-type {\n",
       "        vertical-align: middle;\n",
       "    }\n",
       "\n",
       "    .dataframe tbody tr th {\n",
       "        vertical-align: top;\n",
       "    }\n",
       "\n",
       "    .dataframe thead th {\n",
       "        text-align: right;\n",
       "    }\n",
       "</style>\n",
       "<table border=\"1\" class=\"dataframe\">\n",
       "  <thead>\n",
       "    <tr style=\"text-align: right;\">\n",
       "      <th></th>\n",
       "      <th>kd/nc</th>\n",
       "      <th>32</th>\n",
       "      <th>64</th>\n",
       "      <th>128</th>\n",
       "    </tr>\n",
       "  </thead>\n",
       "  <tbody>\n",
       "    <tr>\n",
       "      <th>0</th>\n",
       "      <td>16</td>\n",
       "      <td>0.340</td>\n",
       "      <td>0.303</td>\n",
       "      <td>0.229</td>\n",
       "    </tr>\n",
       "    <tr>\n",
       "      <th>1</th>\n",
       "      <td>32</td>\n",
       "      <td>0.329</td>\n",
       "      <td>0.289</td>\n",
       "      <td>0.270</td>\n",
       "    </tr>\n",
       "  </tbody>\n",
       "</table>\n",
       "</div>"
      ],
      "text/plain": [
       "   kd/nc     32     64    128\n",
       "0     16  0.340  0.303  0.229\n",
       "1     32  0.329  0.289  0.270"
      ]
     },
     "metadata": {},
     "output_type": "display_data"
    }
   ],
   "source": [
    "# Cell 25 — accuracy tables for SIFT, DSIFT, HOGF; save to CSVs\n",
    "import numpy as np\n",
    "import pandas as pd\n",
    "from pathlib import Path\n",
    "\n",
    "def grid_to_df(name, resdict):\n",
    "    rows = []\n",
    "    for kd in KD_LIST:\n",
    "        row = {\"kd/nc\": kd}\n",
    "        for nc in NC_LIST:\n",
    "            row[str(nc)] = round(float(resdict[(kd, nc)]), 3)\n",
    "        rows.append(row)\n",
    "    df = pd.DataFrame(rows, columns=[\"kd/nc\"] + [str(n) for n in NC_LIST])\n",
    "    out = REPORT_DIR / f\"accuracy_{name}_fv_trueLOO.csv\"\n",
    "    df.to_csv(out, index=False)\n",
    "    return df, out\n",
    "\n",
    "df_sift, out_sift = grid_to_df(\"sift\",  results_true[\"sift\"])\n",
    "df_dsft, out_dsft = grid_to_df(\"dsift\", results_true[\"dsift\"])\n",
    "df_hogf, out_hogf = grid_to_df(\"hogf\",  results_true[\"hogf\"])\n",
    "\n",
    "print(\"Saved tables:\")\n",
    "print(\"  \", out_sift)\n",
    "print(\"  \", out_dsft)\n",
    "print(\"  \", out_hogf)\n",
    "display(df_sift); display(df_dsft); display(df_hogf)\n"
   ]
  },
  {
   "cell_type": "code",
   "execution_count": 63,
   "id": "ef047585-007f-4f51-9b26-3d61764da009",
   "metadata": {},
   "outputs": [],
   "source": [
    "# We formatted the SIFT, Dense SIFT, and HoGf Fisher-Vector accuracies into tables with kd as rows and nc as columns, then saved them as CSVs in reports/. These are the exact numbers to paste into the homework’s tables."
   ]
  },
  {
   "cell_type": "code",
   "execution_count": 64,
   "id": "0a366b46-bab3-4cb8-ba49-5e5e7e40dfb1",
   "metadata": {},
   "outputs": [
    {
     "name": "stdout",
     "output_type": "stream",
     "text": [
      "Saved: /home/manny-buff/projects/cv-hw2/reports/cm_sift_fv_kd16_nc32.png\n",
      "Saved: /home/manny-buff/projects/cv-hw2/reports/cm_sift_fv_kd16_nc64.png\n",
      "Saved: /home/manny-buff/projects/cv-hw2/reports/cm_sift_fv_kd16_nc128.png\n",
      "Saved: /home/manny-buff/projects/cv-hw2/reports/cm_sift_fv_kd32_nc32.png\n",
      "Saved: /home/manny-buff/projects/cv-hw2/reports/cm_sift_fv_kd32_nc64.png\n",
      "Saved: /home/manny-buff/projects/cv-hw2/reports/cm_sift_fv_kd32_nc128.png\n",
      "Saved: /home/manny-buff/projects/cv-hw2/reports/cm_dsift_fv_kd16_nc32.png\n",
      "Saved: /home/manny-buff/projects/cv-hw2/reports/cm_dsift_fv_kd16_nc64.png\n",
      "Saved: /home/manny-buff/projects/cv-hw2/reports/cm_dsift_fv_kd16_nc128.png\n",
      "Saved: /home/manny-buff/projects/cv-hw2/reports/cm_dsift_fv_kd32_nc32.png\n",
      "Saved: /home/manny-buff/projects/cv-hw2/reports/cm_dsift_fv_kd32_nc64.png\n",
      "Saved: /home/manny-buff/projects/cv-hw2/reports/cm_dsift_fv_kd32_nc128.png\n",
      "Saved: /home/manny-buff/projects/cv-hw2/reports/cm_hogf_fv_kd16_nc32.png\n",
      "Saved: /home/manny-buff/projects/cv-hw2/reports/cm_hogf_fv_kd16_nc64.png\n",
      "Saved: /home/manny-buff/projects/cv-hw2/reports/cm_hogf_fv_kd16_nc128.png\n",
      "Saved: /home/manny-buff/projects/cv-hw2/reports/cm_hogf_fv_kd32_nc32.png\n",
      "Saved: /home/manny-buff/projects/cv-hw2/reports/cm_hogf_fv_kd32_nc64.png\n",
      "Saved: /home/manny-buff/projects/cv-hw2/reports/cm_hogf_fv_kd32_nc128.png\n"
     ]
    }
   ],
   "source": [
    "# Cell 26 — save 6 confusion maps per feature (kd∈{16,32} × nc∈{32,64,128})\n",
    "import matplotlib.pyplot as plt\n",
    "import seaborn as sns\n",
    "\n",
    "def save_cm_grid(feature_name, cms):\n",
    "    for kd in KD_LIST:\n",
    "        for nc in NC_LIST:\n",
    "            cm = cms[(kd, nc)]\n",
    "            plt.figure(figsize=(8,6))\n",
    "            sns.heatmap(cm, annot=False, cmap=\"Blues\",\n",
    "                        xticklabels=[c.name for c in CLASS_LIST],\n",
    "                        yticklabels=[c.name for c in CLASS_LIST])\n",
    "            plt.title(f\"Confusion Matrix (TRUE LOO) — {feature_name.upper()} FV kd={kd} nc={nc}\")\n",
    "            plt.xlabel(\"Predicted\"); plt.ylabel(\"True\"); plt.tight_layout()\n",
    "            out = REPORT_DIR / f\"cm_{feature_name}_fv_kd{kd}_nc{nc}.png\"\n",
    "            plt.savefig(out, dpi=160)\n",
    "            plt.close()\n",
    "            print(\"Saved:\", out)\n",
    "\n",
    "save_cm_grid(\"sift\",  cms_true[\"sift\"])\n",
    "save_cm_grid(\"dsift\", cms_true[\"dsift\"])\n",
    "save_cm_grid(\"hogf\",  cms_true[\"hogf\"])\n"
   ]
  },
  {
   "cell_type": "code",
   "execution_count": 65,
   "id": "53f9467c-012c-421c-b9c2-e92622bfa461",
   "metadata": {},
   "outputs": [],
   "source": [
    "# We exported 18 confusion-matrix figures (6 per feature type). They’re in reports/ with filenames like cm_sift_fv_kd16_nc64.png. You can drop any/all of these into the write-up."
   ]
  },
  {
   "cell_type": "code",
   "execution_count": 66,
   "id": "3751c6cc-a1ed-4570-a55b-4ffca9b7a610",
   "metadata": {},
   "outputs": [
    {
     "name": "stdout",
     "output_type": "stream",
     "text": [
      "Best SIFT FV   : (16, 32) 0.201\n",
      "Best DSIFT FV  : (32, 128) 0.559\n",
      "Best HOGF FV   : (16, 32) 0.340\n",
      "Summary (TRUE LOO):\n",
      "• SIFT FV tops at kd=16, nc=32 with accuracy 0.201.\n",
      "• DSIFT FV tops at kd=32, nc=128 with accuracy 0.559.\n",
      "• HoGf FV tops at kd=16, nc=32 with accuracy 0.340.\n",
      "\n",
      "Overall, Dense SIFT → FV clearly outperforms sparse SIFT and HoGf on this 15×60 NWPU subset under true leave-one-out.\n"
     ]
    }
   ],
   "source": [
    "# Cell 27 — summarize which setups performed best (TRUE LOO)\n",
    "def best_of(res):\n",
    "    return max(res.items(), key=lambda kv: kv[1])  # ((kd,nc), acc)\n",
    "\n",
    "w_sift, a_sift = best_of(results_true[\"sift\"])\n",
    "w_dsft, a_dsft = best_of(results_true[\"dsift\"])\n",
    "w_hogf, a_hogf = best_of(results_true[\"hogf\"])\n",
    "\n",
    "print(\"Best SIFT FV   :\", w_sift, f\"{a_sift:.3f}\")\n",
    "print(\"Best DSIFT FV  :\", w_dsft, f\"{a_dsft:.3f}\")\n",
    "print(\"Best HOGF FV   :\", w_hogf, f\"{a_hogf:.3f}\")\n",
    "\n",
    "summary = f\"\"\"\n",
    "Summary (TRUE LOO):\n",
    "• SIFT FV tops at kd={w_sift[0]}, nc={w_sift[1]} with accuracy {a_sift:.3f}.\n",
    "• DSIFT FV tops at kd={w_dsft[0]}, nc={w_dsft[1]} with accuracy {a_dsft:.3f}.\n",
    "• HoGf FV tops at kd={w_hogf[0]}, nc={w_hogf[1]} with accuracy {a_hogf:.3f}.\n",
    "\n",
    "Overall, Dense SIFT → FV clearly outperforms sparse SIFT and HoGf on this 15×60 NWPU subset under true leave-one-out.\n",
    "\"\"\"\n",
    "print(summary.strip())\n"
   ]
  },
  {
   "cell_type": "code",
   "execution_count": 67,
   "id": "e6c3bfdf-061a-4df7-bfb5-af3a7efc7363",
   "metadata": {},
   "outputs": [],
   "source": [
    "# This prints the best kd/nc per feature family and a short takeaway paragraph you can reuse verbatim in the report’s discussion section."
   ]
  },
  {
   "cell_type": "code",
   "execution_count": 68,
   "id": "38de6c15-2878-4d91-970e-1d01d8480711",
   "metadata": {},
   "outputs": [],
   "source": [
    "### HW-2: Gradient Features and Aggregation — Results\n",
    "\n",
    "# **Dataset.** First 15 classes of NWPU-RESISC45, 60 images per class (N=900).  \n",
    "# **Features.** SIFT, Dense SIFT, and HoGf (grayscale).  \n",
    "# **Aggregation.** Fisher Vectors with PCA (kd ∈ {16,32}) and GMM (nc ∈ {32,64,128}); 1-NN, TRUE leave-one-out.  \n",
    "# (Assignment spec followed exactly. :contentReference[oaicite:1]{index=1})\n",
    "\n",
    "## (1) Feature Extraction\n",
    "# - Implemented `getImageFeatures(im, opt)` for `sift`, `dsift`, and `hogf`.\n",
    "# - Saved `f_sift{}` and `f_dsift{}` to `reports/gradient_features.mat` as HDF5 cells with labels/class names.\n",
    "\n",
    "## (2) PCA & GMM\n",
    "# - PCA fitted on up to ~200k sampled descriptors per feature; eigenvalue spectra plotted (SIFT vs DSIFT).\n",
    "# - GMM trained with diagonal covariance in PCA space; HoGf used standardized (z-scored) PCA outputs with regularization to avoid collapse.\n",
    "\n",
    "## (3) Fisher Vectors & Recognition\n",
    "# - FV = [weights, means, variances], with signed sqrt + L2 normalization.\n",
    "# - **Accuracy tables (TRUE LOO)**  \n",
    "#  - SIFT FV: see `reports/accuracy_sift_fv_trueLOO.csv`  \n",
    "#  - Dense SIFT FV: see `reports/accuracy_dsift_fv_trueLOO.csv`  \n",
    "#  - HoGf FV: see `reports/accuracy_hogf_fv_trueLOO.csv`\n",
    "# - **Confusion maps**: see `reports/cm_*` PNGs (6 per feature, kd∈{16,32} × nc∈{32,64,128}).\n",
    "\n",
    "## Findings\n",
    "# - Dense SIFT + FV performs best overall on this subset under TRUE LOO.  \n",
    "# - SIFT + FV trails DSIFT notably (consistent with dense sampling benefits).  \n",
    "# - HoGf + FV is competitive but below DSIFT; performance decreases with very large nc due to over-fragmented mixtures.\n",
    "\n"
   ]
  },
  {
   "cell_type": "code",
   "execution_count": null,
   "id": "6d0341c2-ecf9-4c34-b1ec-86a545546802",
   "metadata": {},
   "outputs": [],
   "source": []
  }
 ],
 "metadata": {
  "kernelspec": {
   "display_name": "Python (hw2-cv)",
   "language": "python",
   "name": "hw2-cv"
  },
  "language_info": {
   "codemirror_mode": {
    "name": "ipython",
    "version": 3
   },
   "file_extension": ".py",
   "mimetype": "text/x-python",
   "name": "python",
   "nbconvert_exporter": "python",
   "pygments_lexer": "ipython3",
   "version": "3.11.9"
  }
 },
 "nbformat": 4,
 "nbformat_minor": 5
}
